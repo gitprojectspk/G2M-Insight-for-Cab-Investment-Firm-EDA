{
 "cells": [
  {
   "cell_type": "markdown",
   "id": "524ad01f",
   "metadata": {},
   "source": [
    "XYZ is a private firm in US. Due to remarkable growth in the Cab Industry in last few years and multiple key players in the market, it is planning for an investment in Cab industry and as per their Go-to-Market(G2M) strategy they want to understand the market before taking final decision."
   ]
  },
  {
   "cell_type": "markdown",
   "id": "3b2c8b4a",
   "metadata": {},
   "source": [
    "Data Set:\n",
    "\n",
    "Below are the four datasets which are provided for the analysis:\n",
    "\n",
    "Cab_Data.csv – this file includes details of transaction for 2 cab companies\n",
    "\n",
    "Customer_ID.csv – this is a mapping table that contains a unique identifier which links the customer’s demographic details\n",
    "\n",
    "Transaction_ID.csv – this is a mapping table that contains transaction to customer mapping and payment mode\n",
    "\n",
    "City.csv – this file contains list of US cities, their population and number of cab users\n",
    "\n",
    "\n",
    "Time period of data is from 31/01/2016 to 31/12/2018"
   ]
  },
  {
   "cell_type": "code",
   "execution_count": 8,
   "id": "e7410cac",
   "metadata": {},
   "outputs": [
    {
     "name": "stdout",
     "output_type": "stream",
     "text": [
      "Requirement already satisfied: matplotlib in c:\\users\\priya\\anaconda3\\lib\\site-packages (3.5.2)Note: you may need to restart the kernel to use updated packages.\n",
      "\n",
      "Requirement already satisfied: numpy>=1.17 in c:\\users\\priya\\anaconda3\\lib\\site-packages (from matplotlib) (1.22.3)\n",
      "Requirement already satisfied: cycler>=0.10 in c:\\users\\priya\\anaconda3\\lib\\site-packages (from matplotlib) (0.10.0)\n",
      "Requirement already satisfied: pyparsing>=2.2.1 in c:\\users\\priya\\anaconda3\\lib\\site-packages (from matplotlib) (2.4.7)\n",
      "Requirement already satisfied: kiwisolver>=1.0.1 in c:\\users\\priya\\anaconda3\\lib\\site-packages (from matplotlib) (1.3.1)\n",
      "Requirement already satisfied: python-dateutil>=2.7 in c:\\users\\priya\\anaconda3\\lib\\site-packages (from matplotlib) (2.8.1)\n",
      "Requirement already satisfied: packaging>=20.0 in c:\\users\\priya\\anaconda3\\lib\\site-packages (from matplotlib) (20.9)\n",
      "Requirement already satisfied: pillow>=6.2.0 in c:\\users\\priya\\anaconda3\\lib\\site-packages (from matplotlib) (8.2.0)\n",
      "Requirement already satisfied: fonttools>=4.22.0 in c:\\users\\priya\\anaconda3\\lib\\site-packages (from matplotlib) (4.34.4)\n",
      "Requirement already satisfied: six in c:\\users\\priya\\anaconda3\\lib\\site-packages (from cycler>=0.10->matplotlib) (1.15.0)\n"
     ]
    }
   ],
   "source": [
    " pip install -U matplotlib"
   ]
  },
  {
   "cell_type": "code",
   "execution_count": 9,
   "id": "6dd50f5b",
   "metadata": {},
   "outputs": [],
   "source": [
    "import numpy as np\n",
    "import pandas as pd\n",
    "import matplotlib.pyplot as plt\n",
    "import seaborn as sns"
   ]
  },
  {
   "cell_type": "markdown",
   "id": "1e276062",
   "metadata": {},
   "source": [
    "## Data Wrangling/Cleaning"
   ]
  },
  {
   "cell_type": "code",
   "execution_count": 13,
   "id": "9b1d8aa6",
   "metadata": {},
   "outputs": [],
   "source": [
    "cab_df = pd.read_csv(\"data/Cab_Data.csv\")\n",
    "city_df = pd.read_csv(\"data/City.csv\")\n",
    "cust_df = pd.read_csv(\"data/Customer_ID.csv\")\n",
    "trans_df = pd.read_csv(\"data/Transaction_ID.csv\")"
   ]
  },
  {
   "cell_type": "code",
   "execution_count": 14,
   "id": "f0033f0f",
   "metadata": {},
   "outputs": [
    {
     "data": {
      "text/html": [
       "<div>\n",
       "<style scoped>\n",
       "    .dataframe tbody tr th:only-of-type {\n",
       "        vertical-align: middle;\n",
       "    }\n",
       "\n",
       "    .dataframe tbody tr th {\n",
       "        vertical-align: top;\n",
       "    }\n",
       "\n",
       "    .dataframe thead th {\n",
       "        text-align: right;\n",
       "    }\n",
       "</style>\n",
       "<table border=\"1\" class=\"dataframe\">\n",
       "  <thead>\n",
       "    <tr style=\"text-align: right;\">\n",
       "      <th></th>\n",
       "      <th>Transaction ID</th>\n",
       "      <th>Date of Travel</th>\n",
       "      <th>Company</th>\n",
       "      <th>City</th>\n",
       "      <th>KM Travelled</th>\n",
       "      <th>Price Charged</th>\n",
       "      <th>Cost of Trip</th>\n",
       "    </tr>\n",
       "  </thead>\n",
       "  <tbody>\n",
       "    <tr>\n",
       "      <th>0</th>\n",
       "      <td>10000011</td>\n",
       "      <td>2016-01-08</td>\n",
       "      <td>Pink Cab</td>\n",
       "      <td>ATLANTA GA</td>\n",
       "      <td>30.45</td>\n",
       "      <td>370.95</td>\n",
       "      <td>313.635</td>\n",
       "    </tr>\n",
       "    <tr>\n",
       "      <th>1</th>\n",
       "      <td>10000012</td>\n",
       "      <td>2016-01-06</td>\n",
       "      <td>Pink Cab</td>\n",
       "      <td>ATLANTA GA</td>\n",
       "      <td>28.62</td>\n",
       "      <td>358.52</td>\n",
       "      <td>334.854</td>\n",
       "    </tr>\n",
       "    <tr>\n",
       "      <th>2</th>\n",
       "      <td>10000013</td>\n",
       "      <td>2016-01-02</td>\n",
       "      <td>Pink Cab</td>\n",
       "      <td>ATLANTA GA</td>\n",
       "      <td>9.04</td>\n",
       "      <td>125.20</td>\n",
       "      <td>97.632</td>\n",
       "    </tr>\n",
       "    <tr>\n",
       "      <th>3</th>\n",
       "      <td>10000014</td>\n",
       "      <td>2016-01-07</td>\n",
       "      <td>Pink Cab</td>\n",
       "      <td>ATLANTA GA</td>\n",
       "      <td>33.17</td>\n",
       "      <td>377.40</td>\n",
       "      <td>351.602</td>\n",
       "    </tr>\n",
       "    <tr>\n",
       "      <th>4</th>\n",
       "      <td>10000015</td>\n",
       "      <td>2016-01-03</td>\n",
       "      <td>Pink Cab</td>\n",
       "      <td>ATLANTA GA</td>\n",
       "      <td>8.73</td>\n",
       "      <td>114.62</td>\n",
       "      <td>97.776</td>\n",
       "    </tr>\n",
       "  </tbody>\n",
       "</table>\n",
       "</div>"
      ],
      "text/plain": [
       "   Transaction ID Date of Travel   Company        City  KM Travelled  \\\n",
       "0        10000011     2016-01-08  Pink Cab  ATLANTA GA         30.45   \n",
       "1        10000012     2016-01-06  Pink Cab  ATLANTA GA         28.62   \n",
       "2        10000013     2016-01-02  Pink Cab  ATLANTA GA          9.04   \n",
       "3        10000014     2016-01-07  Pink Cab  ATLANTA GA         33.17   \n",
       "4        10000015     2016-01-03  Pink Cab  ATLANTA GA          8.73   \n",
       "\n",
       "   Price Charged  Cost of Trip  \n",
       "0         370.95       313.635  \n",
       "1         358.52       334.854  \n",
       "2         125.20        97.632  \n",
       "3         377.40       351.602  \n",
       "4         114.62        97.776  "
      ]
     },
     "execution_count": 14,
     "metadata": {},
     "output_type": "execute_result"
    }
   ],
   "source": [
    "cab_df.head()"
   ]
  },
  {
   "cell_type": "code",
   "execution_count": 15,
   "id": "09617f8e",
   "metadata": {},
   "outputs": [
    {
     "data": {
      "text/html": [
       "<div>\n",
       "<style scoped>\n",
       "    .dataframe tbody tr th:only-of-type {\n",
       "        vertical-align: middle;\n",
       "    }\n",
       "\n",
       "    .dataframe tbody tr th {\n",
       "        vertical-align: top;\n",
       "    }\n",
       "\n",
       "    .dataframe thead th {\n",
       "        text-align: right;\n",
       "    }\n",
       "</style>\n",
       "<table border=\"1\" class=\"dataframe\">\n",
       "  <thead>\n",
       "    <tr style=\"text-align: right;\">\n",
       "      <th></th>\n",
       "      <th>City</th>\n",
       "      <th>Population</th>\n",
       "      <th>Users</th>\n",
       "    </tr>\n",
       "  </thead>\n",
       "  <tbody>\n",
       "    <tr>\n",
       "      <th>0</th>\n",
       "      <td>NEW YORK NY</td>\n",
       "      <td>8,405,837</td>\n",
       "      <td>302,149</td>\n",
       "    </tr>\n",
       "    <tr>\n",
       "      <th>1</th>\n",
       "      <td>CHICAGO IL</td>\n",
       "      <td>1,955,130</td>\n",
       "      <td>164,468</td>\n",
       "    </tr>\n",
       "    <tr>\n",
       "      <th>2</th>\n",
       "      <td>LOS ANGELES CA</td>\n",
       "      <td>1,595,037</td>\n",
       "      <td>144,132</td>\n",
       "    </tr>\n",
       "    <tr>\n",
       "      <th>3</th>\n",
       "      <td>MIAMI FL</td>\n",
       "      <td>1,339,155</td>\n",
       "      <td>17,675</td>\n",
       "    </tr>\n",
       "    <tr>\n",
       "      <th>4</th>\n",
       "      <td>SILICON VALLEY</td>\n",
       "      <td>1,177,609</td>\n",
       "      <td>27,247</td>\n",
       "    </tr>\n",
       "  </tbody>\n",
       "</table>\n",
       "</div>"
      ],
      "text/plain": [
       "             City   Population      Users\n",
       "0     NEW YORK NY   8,405,837    302,149 \n",
       "1      CHICAGO IL   1,955,130    164,468 \n",
       "2  LOS ANGELES CA   1,595,037    144,132 \n",
       "3        MIAMI FL   1,339,155     17,675 \n",
       "4  SILICON VALLEY   1,177,609     27,247 "
      ]
     },
     "execution_count": 15,
     "metadata": {},
     "output_type": "execute_result"
    }
   ],
   "source": [
    "city_df.head()"
   ]
  },
  {
   "cell_type": "code",
   "execution_count": 16,
   "id": "c311a08f",
   "metadata": {},
   "outputs": [
    {
     "data": {
      "text/html": [
       "<div>\n",
       "<style scoped>\n",
       "    .dataframe tbody tr th:only-of-type {\n",
       "        vertical-align: middle;\n",
       "    }\n",
       "\n",
       "    .dataframe tbody tr th {\n",
       "        vertical-align: top;\n",
       "    }\n",
       "\n",
       "    .dataframe thead th {\n",
       "        text-align: right;\n",
       "    }\n",
       "</style>\n",
       "<table border=\"1\" class=\"dataframe\">\n",
       "  <thead>\n",
       "    <tr style=\"text-align: right;\">\n",
       "      <th></th>\n",
       "      <th>Customer ID</th>\n",
       "      <th>Gender</th>\n",
       "      <th>Age</th>\n",
       "      <th>Income (USD/Month)</th>\n",
       "    </tr>\n",
       "  </thead>\n",
       "  <tbody>\n",
       "    <tr>\n",
       "      <th>0</th>\n",
       "      <td>29290</td>\n",
       "      <td>Male</td>\n",
       "      <td>28</td>\n",
       "      <td>10813</td>\n",
       "    </tr>\n",
       "    <tr>\n",
       "      <th>1</th>\n",
       "      <td>27703</td>\n",
       "      <td>Male</td>\n",
       "      <td>27</td>\n",
       "      <td>9237</td>\n",
       "    </tr>\n",
       "    <tr>\n",
       "      <th>2</th>\n",
       "      <td>28712</td>\n",
       "      <td>Male</td>\n",
       "      <td>53</td>\n",
       "      <td>11242</td>\n",
       "    </tr>\n",
       "    <tr>\n",
       "      <th>3</th>\n",
       "      <td>28020</td>\n",
       "      <td>Male</td>\n",
       "      <td>23</td>\n",
       "      <td>23327</td>\n",
       "    </tr>\n",
       "    <tr>\n",
       "      <th>4</th>\n",
       "      <td>27182</td>\n",
       "      <td>Male</td>\n",
       "      <td>33</td>\n",
       "      <td>8536</td>\n",
       "    </tr>\n",
       "  </tbody>\n",
       "</table>\n",
       "</div>"
      ],
      "text/plain": [
       "   Customer ID Gender  Age  Income (USD/Month)\n",
       "0        29290   Male   28               10813\n",
       "1        27703   Male   27                9237\n",
       "2        28712   Male   53               11242\n",
       "3        28020   Male   23               23327\n",
       "4        27182   Male   33                8536"
      ]
     },
     "execution_count": 16,
     "metadata": {},
     "output_type": "execute_result"
    }
   ],
   "source": [
    "cust_df.head()"
   ]
  },
  {
   "cell_type": "code",
   "execution_count": 17,
   "id": "d7ebabe6",
   "metadata": {},
   "outputs": [
    {
     "data": {
      "text/html": [
       "<div>\n",
       "<style scoped>\n",
       "    .dataframe tbody tr th:only-of-type {\n",
       "        vertical-align: middle;\n",
       "    }\n",
       "\n",
       "    .dataframe tbody tr th {\n",
       "        vertical-align: top;\n",
       "    }\n",
       "\n",
       "    .dataframe thead th {\n",
       "        text-align: right;\n",
       "    }\n",
       "</style>\n",
       "<table border=\"1\" class=\"dataframe\">\n",
       "  <thead>\n",
       "    <tr style=\"text-align: right;\">\n",
       "      <th></th>\n",
       "      <th>Transaction ID</th>\n",
       "      <th>Customer ID</th>\n",
       "      <th>Payment_Mode</th>\n",
       "    </tr>\n",
       "  </thead>\n",
       "  <tbody>\n",
       "    <tr>\n",
       "      <th>0</th>\n",
       "      <td>10000011</td>\n",
       "      <td>29290</td>\n",
       "      <td>Card</td>\n",
       "    </tr>\n",
       "    <tr>\n",
       "      <th>1</th>\n",
       "      <td>10000012</td>\n",
       "      <td>27703</td>\n",
       "      <td>Card</td>\n",
       "    </tr>\n",
       "    <tr>\n",
       "      <th>2</th>\n",
       "      <td>10000013</td>\n",
       "      <td>28712</td>\n",
       "      <td>Cash</td>\n",
       "    </tr>\n",
       "    <tr>\n",
       "      <th>3</th>\n",
       "      <td>10000014</td>\n",
       "      <td>28020</td>\n",
       "      <td>Cash</td>\n",
       "    </tr>\n",
       "    <tr>\n",
       "      <th>4</th>\n",
       "      <td>10000015</td>\n",
       "      <td>27182</td>\n",
       "      <td>Card</td>\n",
       "    </tr>\n",
       "  </tbody>\n",
       "</table>\n",
       "</div>"
      ],
      "text/plain": [
       "   Transaction ID  Customer ID Payment_Mode\n",
       "0        10000011        29290         Card\n",
       "1        10000012        27703         Card\n",
       "2        10000013        28712         Cash\n",
       "3        10000014        28020         Cash\n",
       "4        10000015        27182         Card"
      ]
     },
     "execution_count": 17,
     "metadata": {},
     "output_type": "execute_result"
    }
   ],
   "source": [
    "trans_df.head()"
   ]
  },
  {
   "cell_type": "code",
   "execution_count": 18,
   "id": "855cf463",
   "metadata": {},
   "outputs": [
    {
     "data": {
      "text/plain": [
       "((359392, 7), (20, 3), (49171, 4), (440098, 3))"
      ]
     },
     "execution_count": 18,
     "metadata": {},
     "output_type": "execute_result"
    }
   ],
   "source": [
    "cab_df.shape, city_df.shape, cust_df.shape, trans_df.shape"
   ]
  },
  {
   "cell_type": "markdown",
   "id": "1f50e6d3",
   "metadata": {},
   "source": [
    "merging files into one single file"
   ]
  },
  {
   "cell_type": "code",
   "execution_count": 19,
   "id": "20afc74a",
   "metadata": {},
   "outputs": [],
   "source": [
    "df = cab_df.merge(trans_df, on='Transaction ID').merge(cust_df, on='Customer ID').merge(city_df, on='City')"
   ]
  },
  {
   "cell_type": "code",
   "execution_count": 20,
   "id": "a64e0827",
   "metadata": {},
   "outputs": [
    {
     "data": {
      "text/html": [
       "<div>\n",
       "<style scoped>\n",
       "    .dataframe tbody tr th:only-of-type {\n",
       "        vertical-align: middle;\n",
       "    }\n",
       "\n",
       "    .dataframe tbody tr th {\n",
       "        vertical-align: top;\n",
       "    }\n",
       "\n",
       "    .dataframe thead th {\n",
       "        text-align: right;\n",
       "    }\n",
       "</style>\n",
       "<table border=\"1\" class=\"dataframe\">\n",
       "  <thead>\n",
       "    <tr style=\"text-align: right;\">\n",
       "      <th></th>\n",
       "      <th>Transaction ID</th>\n",
       "      <th>Date of Travel</th>\n",
       "      <th>Company</th>\n",
       "      <th>City</th>\n",
       "      <th>KM Travelled</th>\n",
       "      <th>Price Charged</th>\n",
       "      <th>Cost of Trip</th>\n",
       "      <th>Customer ID</th>\n",
       "      <th>Payment_Mode</th>\n",
       "      <th>Gender</th>\n",
       "      <th>Age</th>\n",
       "      <th>Income (USD/Month)</th>\n",
       "      <th>Population</th>\n",
       "      <th>Users</th>\n",
       "    </tr>\n",
       "  </thead>\n",
       "  <tbody>\n",
       "    <tr>\n",
       "      <th>0</th>\n",
       "      <td>10000011</td>\n",
       "      <td>2016-01-08</td>\n",
       "      <td>Pink Cab</td>\n",
       "      <td>ATLANTA GA</td>\n",
       "      <td>30.45</td>\n",
       "      <td>370.95</td>\n",
       "      <td>313.6350</td>\n",
       "      <td>29290</td>\n",
       "      <td>Card</td>\n",
       "      <td>Male</td>\n",
       "      <td>28</td>\n",
       "      <td>10813</td>\n",
       "      <td>814,885</td>\n",
       "      <td>24,701</td>\n",
       "    </tr>\n",
       "    <tr>\n",
       "      <th>1</th>\n",
       "      <td>10351127</td>\n",
       "      <td>2018-07-21</td>\n",
       "      <td>Yellow Cab</td>\n",
       "      <td>ATLANTA GA</td>\n",
       "      <td>26.19</td>\n",
       "      <td>598.70</td>\n",
       "      <td>317.4228</td>\n",
       "      <td>29290</td>\n",
       "      <td>Cash</td>\n",
       "      <td>Male</td>\n",
       "      <td>28</td>\n",
       "      <td>10813</td>\n",
       "      <td>814,885</td>\n",
       "      <td>24,701</td>\n",
       "    </tr>\n",
       "    <tr>\n",
       "      <th>2</th>\n",
       "      <td>10412921</td>\n",
       "      <td>2018-11-23</td>\n",
       "      <td>Yellow Cab</td>\n",
       "      <td>ATLANTA GA</td>\n",
       "      <td>42.55</td>\n",
       "      <td>792.05</td>\n",
       "      <td>597.4020</td>\n",
       "      <td>29290</td>\n",
       "      <td>Card</td>\n",
       "      <td>Male</td>\n",
       "      <td>28</td>\n",
       "      <td>10813</td>\n",
       "      <td>814,885</td>\n",
       "      <td>24,701</td>\n",
       "    </tr>\n",
       "    <tr>\n",
       "      <th>3</th>\n",
       "      <td>10000012</td>\n",
       "      <td>2016-01-06</td>\n",
       "      <td>Pink Cab</td>\n",
       "      <td>ATLANTA GA</td>\n",
       "      <td>28.62</td>\n",
       "      <td>358.52</td>\n",
       "      <td>334.8540</td>\n",
       "      <td>27703</td>\n",
       "      <td>Card</td>\n",
       "      <td>Male</td>\n",
       "      <td>27</td>\n",
       "      <td>9237</td>\n",
       "      <td>814,885</td>\n",
       "      <td>24,701</td>\n",
       "    </tr>\n",
       "    <tr>\n",
       "      <th>4</th>\n",
       "      <td>10320494</td>\n",
       "      <td>2018-04-21</td>\n",
       "      <td>Yellow Cab</td>\n",
       "      <td>ATLANTA GA</td>\n",
       "      <td>36.38</td>\n",
       "      <td>721.10</td>\n",
       "      <td>467.1192</td>\n",
       "      <td>27703</td>\n",
       "      <td>Card</td>\n",
       "      <td>Male</td>\n",
       "      <td>27</td>\n",
       "      <td>9237</td>\n",
       "      <td>814,885</td>\n",
       "      <td>24,701</td>\n",
       "    </tr>\n",
       "  </tbody>\n",
       "</table>\n",
       "</div>"
      ],
      "text/plain": [
       "   Transaction ID Date of Travel     Company        City  KM Travelled  \\\n",
       "0        10000011     2016-01-08    Pink Cab  ATLANTA GA         30.45   \n",
       "1        10351127     2018-07-21  Yellow Cab  ATLANTA GA         26.19   \n",
       "2        10412921     2018-11-23  Yellow Cab  ATLANTA GA         42.55   \n",
       "3        10000012     2016-01-06    Pink Cab  ATLANTA GA         28.62   \n",
       "4        10320494     2018-04-21  Yellow Cab  ATLANTA GA         36.38   \n",
       "\n",
       "   Price Charged  Cost of Trip  Customer ID Payment_Mode Gender  Age  \\\n",
       "0         370.95      313.6350        29290         Card   Male   28   \n",
       "1         598.70      317.4228        29290         Cash   Male   28   \n",
       "2         792.05      597.4020        29290         Card   Male   28   \n",
       "3         358.52      334.8540        27703         Card   Male   27   \n",
       "4         721.10      467.1192        27703         Card   Male   27   \n",
       "\n",
       "   Income (USD/Month) Population     Users  \n",
       "0               10813   814,885    24,701   \n",
       "1               10813   814,885    24,701   \n",
       "2               10813   814,885    24,701   \n",
       "3                9237   814,885    24,701   \n",
       "4                9237   814,885    24,701   "
      ]
     },
     "execution_count": 20,
     "metadata": {},
     "output_type": "execute_result"
    }
   ],
   "source": [
    "df.head()"
   ]
  },
  {
   "cell_type": "code",
   "execution_count": 21,
   "id": "495c8a31",
   "metadata": {},
   "outputs": [
    {
     "data": {
      "text/plain": [
       "(359392, 14)"
      ]
     },
     "execution_count": 21,
     "metadata": {},
     "output_type": "execute_result"
    }
   ],
   "source": [
    "df.shape"
   ]
  },
  {
   "cell_type": "markdown",
   "id": "97a5b49e",
   "metadata": {},
   "source": [
    "There are 359392 rows"
   ]
  },
  {
   "cell_type": "code",
   "execution_count": 22,
   "id": "220d2dca",
   "metadata": {},
   "outputs": [
    {
     "data": {
      "text/plain": [
       "Transaction ID        0\n",
       "Date of Travel        0\n",
       "Company               0\n",
       "City                  0\n",
       "KM Travelled          0\n",
       "Price Charged         0\n",
       "Cost of Trip          0\n",
       "Customer ID           0\n",
       "Payment_Mode          0\n",
       "Gender                0\n",
       "Age                   0\n",
       "Income (USD/Month)    0\n",
       "Population            0\n",
       "Users                 0\n",
       "dtype: int64"
      ]
     },
     "execution_count": 22,
     "metadata": {},
     "output_type": "execute_result"
    }
   ],
   "source": [
    "df.isnull().sum()"
   ]
  },
  {
   "cell_type": "markdown",
   "id": "aad8393a",
   "metadata": {},
   "source": [
    "###### There is no missing data in dataset"
   ]
  },
  {
   "cell_type": "code",
   "execution_count": 23,
   "id": "fddc2441",
   "metadata": {},
   "outputs": [
    {
     "name": "stdout",
     "output_type": "stream",
     "text": [
      "0\n"
     ]
    }
   ],
   "source": [
    "df_dup = df.duplicated()\n",
    "print(df_dup.sum())"
   ]
  },
  {
   "cell_type": "markdown",
   "id": "83c1f607",
   "metadata": {},
   "source": [
    "###### There are no duplicate rows in dataset"
   ]
  },
  {
   "cell_type": "code",
   "execution_count": 24,
   "id": "2c6843a3",
   "metadata": {},
   "outputs": [
    {
     "name": "stdout",
     "output_type": "stream",
     "text": [
      "<class 'pandas.core.frame.DataFrame'>\n",
      "Int64Index: 359392 entries, 0 to 359391\n",
      "Data columns (total 14 columns):\n",
      " #   Column              Non-Null Count   Dtype  \n",
      "---  ------              --------------   -----  \n",
      " 0   Transaction ID      359392 non-null  int64  \n",
      " 1   Date of Travel      359392 non-null  object \n",
      " 2   Company             359392 non-null  object \n",
      " 3   City                359392 non-null  object \n",
      " 4   KM Travelled        359392 non-null  float64\n",
      " 5   Price Charged       359392 non-null  float64\n",
      " 6   Cost of Trip        359392 non-null  float64\n",
      " 7   Customer ID         359392 non-null  int64  \n",
      " 8   Payment_Mode        359392 non-null  object \n",
      " 9   Gender              359392 non-null  object \n",
      " 10  Age                 359392 non-null  int64  \n",
      " 11  Income (USD/Month)  359392 non-null  int64  \n",
      " 12  Population          359392 non-null  object \n",
      " 13  Users               359392 non-null  object \n",
      "dtypes: float64(3), int64(4), object(7)\n",
      "memory usage: 41.1+ MB\n"
     ]
    }
   ],
   "source": [
    "df.info()"
   ]
  },
  {
   "cell_type": "markdown",
   "id": "66da905c",
   "metadata": {},
   "source": [
    "The attribute \"Date of Travel\" is a date field but its data type is of string. we will convert it to date time "
   ]
  },
  {
   "cell_type": "code",
   "execution_count": 25,
   "id": "d9cade66",
   "metadata": {},
   "outputs": [],
   "source": [
    "df['Date of Travel'] = pd.to_datetime(df['Date of Travel'])"
   ]
  },
  {
   "cell_type": "markdown",
   "id": "d82700ad",
   "metadata": {},
   "source": [
    "Derive Year and Month from date of travel."
   ]
  },
  {
   "cell_type": "code",
   "execution_count": 26,
   "id": "21259fe6",
   "metadata": {},
   "outputs": [],
   "source": [
    "df['travel_year'] = df['Date of Travel'].dt.year\n",
    "df['travel_month'] = df['Date of Travel'].dt.month"
   ]
  },
  {
   "cell_type": "markdown",
   "id": "9da14c7c",
   "metadata": {},
   "source": [
    "Column Users and Population should be converted to integer."
   ]
  },
  {
   "cell_type": "code",
   "execution_count": 27,
   "id": "90f05891",
   "metadata": {},
   "outputs": [],
   "source": [
    "df['Users'] = df['Users'].str.strip().str.replace(',','').astype(int)\n",
    "df['Population'] = df['Population'].str.strip().str.replace(',','').astype(int)"
   ]
  },
  {
   "cell_type": "markdown",
   "id": "3fa31a19",
   "metadata": {},
   "source": [
    "Lets calculate profit and profit per KM."
   ]
  },
  {
   "cell_type": "code",
   "execution_count": 28,
   "id": "30a2a7c4",
   "metadata": {},
   "outputs": [],
   "source": [
    "df[\"profit\"] = df[\"Price Charged\"] - df[\"Cost of Trip\"]\n",
    "df[\"profit_per_km\"] = df[\"profit\"].sum()/df[\"KM Travelled\"].sum()"
   ]
  },
  {
   "cell_type": "code",
   "execution_count": 29,
   "id": "4986a488",
   "metadata": {},
   "outputs": [
    {
     "data": {
      "text/html": [
       "<div>\n",
       "<style scoped>\n",
       "    .dataframe tbody tr th:only-of-type {\n",
       "        vertical-align: middle;\n",
       "    }\n",
       "\n",
       "    .dataframe tbody tr th {\n",
       "        vertical-align: top;\n",
       "    }\n",
       "\n",
       "    .dataframe thead th {\n",
       "        text-align: right;\n",
       "    }\n",
       "</style>\n",
       "<table border=\"1\" class=\"dataframe\">\n",
       "  <thead>\n",
       "    <tr style=\"text-align: right;\">\n",
       "      <th></th>\n",
       "      <th>Transaction ID</th>\n",
       "      <th>Date of Travel</th>\n",
       "      <th>Company</th>\n",
       "      <th>City</th>\n",
       "      <th>KM Travelled</th>\n",
       "      <th>Price Charged</th>\n",
       "      <th>Cost of Trip</th>\n",
       "      <th>Customer ID</th>\n",
       "      <th>Payment_Mode</th>\n",
       "      <th>Gender</th>\n",
       "      <th>Age</th>\n",
       "      <th>Income (USD/Month)</th>\n",
       "      <th>Population</th>\n",
       "      <th>Users</th>\n",
       "      <th>travel_year</th>\n",
       "      <th>travel_month</th>\n",
       "      <th>profit</th>\n",
       "      <th>profit_per_km</th>\n",
       "    </tr>\n",
       "  </thead>\n",
       "  <tbody>\n",
       "    <tr>\n",
       "      <th>0</th>\n",
       "      <td>10000011</td>\n",
       "      <td>2016-01-08</td>\n",
       "      <td>Pink Cab</td>\n",
       "      <td>ATLANTA GA</td>\n",
       "      <td>30.45</td>\n",
       "      <td>370.95</td>\n",
       "      <td>313.6350</td>\n",
       "      <td>29290</td>\n",
       "      <td>Card</td>\n",
       "      <td>Male</td>\n",
       "      <td>28</td>\n",
       "      <td>10813</td>\n",
       "      <td>814885</td>\n",
       "      <td>24701</td>\n",
       "      <td>2016</td>\n",
       "      <td>1</td>\n",
       "      <td>57.3150</td>\n",
       "      <td>6.081963</td>\n",
       "    </tr>\n",
       "    <tr>\n",
       "      <th>1</th>\n",
       "      <td>10351127</td>\n",
       "      <td>2018-07-21</td>\n",
       "      <td>Yellow Cab</td>\n",
       "      <td>ATLANTA GA</td>\n",
       "      <td>26.19</td>\n",
       "      <td>598.70</td>\n",
       "      <td>317.4228</td>\n",
       "      <td>29290</td>\n",
       "      <td>Cash</td>\n",
       "      <td>Male</td>\n",
       "      <td>28</td>\n",
       "      <td>10813</td>\n",
       "      <td>814885</td>\n",
       "      <td>24701</td>\n",
       "      <td>2018</td>\n",
       "      <td>7</td>\n",
       "      <td>281.2772</td>\n",
       "      <td>6.081963</td>\n",
       "    </tr>\n",
       "    <tr>\n",
       "      <th>2</th>\n",
       "      <td>10412921</td>\n",
       "      <td>2018-11-23</td>\n",
       "      <td>Yellow Cab</td>\n",
       "      <td>ATLANTA GA</td>\n",
       "      <td>42.55</td>\n",
       "      <td>792.05</td>\n",
       "      <td>597.4020</td>\n",
       "      <td>29290</td>\n",
       "      <td>Card</td>\n",
       "      <td>Male</td>\n",
       "      <td>28</td>\n",
       "      <td>10813</td>\n",
       "      <td>814885</td>\n",
       "      <td>24701</td>\n",
       "      <td>2018</td>\n",
       "      <td>11</td>\n",
       "      <td>194.6480</td>\n",
       "      <td>6.081963</td>\n",
       "    </tr>\n",
       "    <tr>\n",
       "      <th>3</th>\n",
       "      <td>10000012</td>\n",
       "      <td>2016-01-06</td>\n",
       "      <td>Pink Cab</td>\n",
       "      <td>ATLANTA GA</td>\n",
       "      <td>28.62</td>\n",
       "      <td>358.52</td>\n",
       "      <td>334.8540</td>\n",
       "      <td>27703</td>\n",
       "      <td>Card</td>\n",
       "      <td>Male</td>\n",
       "      <td>27</td>\n",
       "      <td>9237</td>\n",
       "      <td>814885</td>\n",
       "      <td>24701</td>\n",
       "      <td>2016</td>\n",
       "      <td>1</td>\n",
       "      <td>23.6660</td>\n",
       "      <td>6.081963</td>\n",
       "    </tr>\n",
       "    <tr>\n",
       "      <th>4</th>\n",
       "      <td>10320494</td>\n",
       "      <td>2018-04-21</td>\n",
       "      <td>Yellow Cab</td>\n",
       "      <td>ATLANTA GA</td>\n",
       "      <td>36.38</td>\n",
       "      <td>721.10</td>\n",
       "      <td>467.1192</td>\n",
       "      <td>27703</td>\n",
       "      <td>Card</td>\n",
       "      <td>Male</td>\n",
       "      <td>27</td>\n",
       "      <td>9237</td>\n",
       "      <td>814885</td>\n",
       "      <td>24701</td>\n",
       "      <td>2018</td>\n",
       "      <td>4</td>\n",
       "      <td>253.9808</td>\n",
       "      <td>6.081963</td>\n",
       "    </tr>\n",
       "  </tbody>\n",
       "</table>\n",
       "</div>"
      ],
      "text/plain": [
       "   Transaction ID Date of Travel     Company        City  KM Travelled  \\\n",
       "0        10000011     2016-01-08    Pink Cab  ATLANTA GA         30.45   \n",
       "1        10351127     2018-07-21  Yellow Cab  ATLANTA GA         26.19   \n",
       "2        10412921     2018-11-23  Yellow Cab  ATLANTA GA         42.55   \n",
       "3        10000012     2016-01-06    Pink Cab  ATLANTA GA         28.62   \n",
       "4        10320494     2018-04-21  Yellow Cab  ATLANTA GA         36.38   \n",
       "\n",
       "   Price Charged  Cost of Trip  Customer ID Payment_Mode Gender  Age  \\\n",
       "0         370.95      313.6350        29290         Card   Male   28   \n",
       "1         598.70      317.4228        29290         Cash   Male   28   \n",
       "2         792.05      597.4020        29290         Card   Male   28   \n",
       "3         358.52      334.8540        27703         Card   Male   27   \n",
       "4         721.10      467.1192        27703         Card   Male   27   \n",
       "\n",
       "   Income (USD/Month)  Population  Users  travel_year  travel_month    profit  \\\n",
       "0               10813      814885  24701         2016             1   57.3150   \n",
       "1               10813      814885  24701         2018             7  281.2772   \n",
       "2               10813      814885  24701         2018            11  194.6480   \n",
       "3                9237      814885  24701         2016             1   23.6660   \n",
       "4                9237      814885  24701         2018             4  253.9808   \n",
       "\n",
       "   profit_per_km  \n",
       "0       6.081963  \n",
       "1       6.081963  \n",
       "2       6.081963  \n",
       "3       6.081963  \n",
       "4       6.081963  "
      ]
     },
     "execution_count": 29,
     "metadata": {},
     "output_type": "execute_result"
    }
   ],
   "source": [
    "df.head()"
   ]
  },
  {
   "cell_type": "markdown",
   "id": "653014e9",
   "metadata": {},
   "source": [
    "## EDA : Exploratory Data Analysis"
   ]
  },
  {
   "cell_type": "markdown",
   "id": "d53547c3",
   "metadata": {},
   "source": [
    "## Univariate Analysis\n",
    "- Categorical Variables → Bar chart\n",
    "- Numerical Variables → Histogram"
   ]
  },
  {
   "cell_type": "markdown",
   "id": "14c06059",
   "metadata": {},
   "source": [
    "##### Which cab Company is popular?"
   ]
  },
  {
   "cell_type": "code",
   "execution_count": 30,
   "id": "6daf21f8",
   "metadata": {},
   "outputs": [
    {
     "data": {
      "image/png": "[encoded data removed]",
      "text/plain": [
       "<Figure size 432x288 with 1 Axes>"
      ]
     },
     "metadata": {
      "needs_background": "light"
     },
     "output_type": "display_data"
    },
    {
     "name": "stdout",
     "output_type": "stream",
     "text": [
      "Yellow Cab    274681\n",
      "Pink Cab       84711\n",
      "Name: Company, dtype: int64\n"
     ]
    }
   ],
   "source": [
    "x = df['Company']\n",
    "sns.countplot(x=x)\n",
    "plt.show()\n",
    "print(x.value_counts())"
   ]
  },
  {
   "cell_type": "code",
   "execution_count": 31,
   "id": "e174c9e7",
   "metadata": {},
   "outputs": [
    {
     "data": {
      "text/plain": [
       "76.4293584720862"
      ]
     },
     "execution_count": 31,
     "metadata": {},
     "output_type": "execute_result"
    }
   ],
   "source": [
    "(274681/(274681+84711))*100"
   ]
  },
  {
   "cell_type": "markdown",
   "id": "d8b57bb3",
   "metadata": {},
   "source": [
    "People seems to use yellow cab more than pink cab. Cab dataset has 76.42% of transactions for yellow cab."
   ]
  },
  {
   "cell_type": "markdown",
   "id": "c2520310",
   "metadata": {},
   "source": [
    "##### Which city shows maximum number of ride transactions?"
   ]
  },
  {
   "cell_type": "code",
   "execution_count": 32,
   "id": "3496e915",
   "metadata": {},
   "outputs": [
    {
     "data": {
      "text/plain": [
       "<AxesSubplot:>"
      ]
     },
     "execution_count": 32,
     "metadata": {},
     "output_type": "execute_result"
    },
    {
     "data": {
      "image/png": "[encoded data removed]",
      "text/plain": [
       "<Figure size 720x576 with 1 Axes>"
      ]
     },
     "metadata": {
      "needs_background": "light"
     },
     "output_type": "display_data"
    }
   ],
   "source": [
    "plt.figure(figsize=(10,8))\n",
    "df['City'].value_counts().sort_values().plot(kind='bar')"
   ]
  },
  {
   "cell_type": "markdown",
   "id": "f5c63027",
   "metadata": {},
   "source": [
    "Newyork city shows more rides and Pittsburgh shows lowest. "
   ]
  },
  {
   "cell_type": "markdown",
   "id": "215a096e",
   "metadata": {},
   "source": [
    "##### Is there any certain time/month when people ride in cabs more?"
   ]
  },
  {
   "cell_type": "code",
   "execution_count": 33,
   "id": "1e0cd4b3",
   "metadata": {},
   "outputs": [
    {
     "data": {
      "image/png": "[encoded data removed]",
      "text/plain": [
       "<Figure size 432x288 with 1 Axes>"
      ]
     },
     "metadata": {
      "needs_background": "light"
     },
     "output_type": "display_data"
    }
   ],
   "source": [
    "x = df['travel_month']\n",
    "sns.countplot(x=x)\n",
    "plt.show()"
   ]
  },
  {
   "cell_type": "markdown",
   "id": "802df9c4",
   "metadata": {},
   "source": [
    "More cab transactions are seen during the end of the year."
   ]
  },
  {
   "cell_type": "markdown",
   "id": "23baf3d7",
   "metadata": {},
   "source": [
    "##### Do male use rides more or female?"
   ]
  },
  {
   "cell_type": "code",
   "execution_count": 34,
   "id": "f5759c8d",
   "metadata": {},
   "outputs": [
    {
     "data": {
      "image/png": "[encoded data removed]",
      "text/plain": [
       "<Figure size 720x576 with 1 Axes>"
      ]
     },
     "metadata": {},
     "output_type": "display_data"
    }
   ],
   "source": [
    "fig1, ax1 = plt.subplots(figsize=(10, 8))\n",
    "labels = ['Male', 'Female']\n",
    "ax1.pie(df['Gender'].value_counts(),labels=labels, autopct='%10.2f%%',startangle=90)\n",
    "ax1.axis('equal') \n",
    "plt.show()"
   ]
  },
  {
   "cell_type": "markdown",
   "id": "e7c1e62c",
   "metadata": {},
   "source": [
    "Male travelers are more than Female"
   ]
  },
  {
   "cell_type": "markdown",
   "id": "388bd3aa",
   "metadata": {},
   "source": [
    "##### Which age group prople use cab service more?"
   ]
  },
  {
   "cell_type": "code",
   "execution_count": 35,
   "id": "25dc29de",
   "metadata": {},
   "outputs": [
    {
     "data": {
      "image/png": "[encoded data removed]",
      "text/plain": [
       "<Figure size 720x576 with 1 Axes>"
      ]
     },
     "metadata": {},
     "output_type": "display_data"
    }
   ],
   "source": [
    "age_grp1 = df[(df[\"Age\"] >= 18) & (df[\"Age\"] < 25)].count()[0]\n",
    "age_grp2 = df[(df[\"Age\"] >= 25) & (df[\"Age\"] < 40)].count()[0]\n",
    "age_grp3 = df[(df[\"Age\"] >= 40) & (df[\"Age\"] <= 65)].count()[0]\n",
    "\n",
    "ages = [age_grp1,age_grp2,age_grp3]\n",
    "\n",
    "fig1, ax1 = plt.subplots(figsize=(10,8))\n",
    "labels = ['Young people','Middle Aged','older people']\n",
    "ax1.pie(ages,labels=labels, autopct='%1.1f%%',startangle=90)\n",
    "ax1.axis('equal') \n",
    "plt.show()"
   ]
  },
  {
   "cell_type": "markdown",
   "id": "9cdfa50b",
   "metadata": {},
   "source": [
    "As seen above , middle aged people between 25 to 40 years , use the cab service more."
   ]
  },
  {
   "cell_type": "markdown",
   "id": "ede3603c",
   "metadata": {},
   "source": [
    "##### Which Payment_Mode is used more?"
   ]
  },
  {
   "cell_type": "code",
   "execution_count": 36,
   "id": "e4582c2b",
   "metadata": {},
   "outputs": [
    {
     "data": {
      "image/png": "[encoded data removed]",
      "text/plain": [
       "<Figure size 432x288 with 1 Axes>"
      ]
     },
     "metadata": {
      "needs_background": "light"
     },
     "output_type": "display_data"
    },
    {
     "name": "stdout",
     "output_type": "stream",
     "text": [
      "Card    215504\n",
      "Cash    143888\n",
      "Name: Payment_Mode, dtype: int64\n"
     ]
    }
   ],
   "source": [
    "x = df['Payment_Mode']\n",
    "sns.countplot(x=x)\n",
    "plt.show()\n",
    "print(x.value_counts())"
   ]
  },
  {
   "cell_type": "markdown",
   "id": "2b61a8b5",
   "metadata": {},
   "source": [
    "People prefer to pay by card than cash"
   ]
  },
  {
   "cell_type": "markdown",
   "id": "0eb325c9",
   "metadata": {},
   "source": [
    "## Multivariate Analysis"
   ]
  },
  {
   "cell_type": "markdown",
   "id": "5ba1953a",
   "metadata": {},
   "source": [
    "##### Ride count distribution by company in each city"
   ]
  },
  {
   "cell_type": "code",
   "execution_count": 37,
   "id": "3e3a2850",
   "metadata": {},
   "outputs": [
    {
     "data": {
      "image/png": "[encoded data removed]",
      "text/plain": [
       "<Figure size 936x576 with 1 Axes>"
      ]
     },
     "metadata": {
      "needs_background": "light"
     },
     "output_type": "display_data"
    }
   ],
   "source": [
    "agg_cnt = df.groupby(['City','Company'])['Company'].count().unstack();\n",
    "agg_cnt.plot(kind='bar', stacked=True,figsize=(13,8) , color=('pink','yellow'))\n",
    "plt.title('counts by city and company')\n",
    "plt.xticks(rotation=45, ha='center')\n",
    "plt.show()"
   ]
  },
  {
   "cell_type": "markdown",
   "id": "a2eafb27",
   "metadata": {},
   "source": [
    "As seen above, more transactions/rides are seen for Yellow cabs in most of the cities."
   ]
  },
  {
   "cell_type": "markdown",
   "id": "349b84f6",
   "metadata": {},
   "source": [
    "##### Does Female and Male customers prefers certain kind of company?"
   ]
  },
  {
   "cell_type": "code",
   "execution_count": 38,
   "id": "f0e65f7b",
   "metadata": {},
   "outputs": [
    {
     "data": {
      "image/png": "[encoded data removed]",
      "text/plain": [
       "<Figure size 936x576 with 1 Axes>"
      ]
     },
     "metadata": {
      "needs_background": "light"
     },
     "output_type": "display_data"
    }
   ],
   "source": [
    "agg_gender_cnt = df.groupby(['Gender','Company'])['Company'].count().unstack();\n",
    "agg_gender_cnt.plot(kind='bar', stacked=True,figsize=(13,8) , color=('pink','yellow'))\n",
    "plt.title('Gender distribution by Company')\n",
    "plt.xticks(rotation=45, ha='center')\n",
    "plt.show()"
   ]
  },
  {
   "cell_type": "markdown",
   "id": "e1a92209",
   "metadata": {},
   "source": [
    "Yellow cab service is prefered by male and female."
   ]
  },
  {
   "cell_type": "markdown",
   "id": "edd78488",
   "metadata": {},
   "source": [
    "##### Ride Count distribution of company in each year"
   ]
  },
  {
   "cell_type": "code",
   "execution_count": 39,
   "id": "fc87dacf",
   "metadata": {},
   "outputs": [
    {
     "data": {
      "image/png": "[encoded data removed]",
      "text/plain": [
       "<Figure size 936x576 with 1 Axes>"
      ]
     },
     "metadata": {
      "needs_background": "light"
     },
     "output_type": "display_data"
    }
   ],
   "source": [
    "company_year_cnt = df.groupby(['travel_year','Company'])['Company'].count().unstack();\n",
    "company_year_cnt.plot(kind='bar', stacked=True,figsize=(13,8) , color=('pink','yellow'))\n",
    "plt.title('counts by Year and company')\n",
    "plt.xticks(rotation=45, ha='center')\n",
    "plt.show()"
   ]
  },
  {
   "cell_type": "markdown",
   "id": "06cd2426",
   "metadata": {},
   "source": [
    "###### Cab rides were used more in 2017 and Yellow cab transactions are more tahan pink cab in all 3 years."
   ]
  },
  {
   "cell_type": "markdown",
   "id": "4415d68e",
   "metadata": {},
   "source": [
    "##### Customer distribution in each company by year"
   ]
  },
  {
   "cell_type": "code",
   "execution_count": 40,
   "id": "94fd905f",
   "metadata": {},
   "outputs": [],
   "source": [
    "#cust_yr_cnt = df.groupby(['travel_year','Company'])['Customer ID'].count().unstack();\n",
    "#cust_yr_cnt.plot(kind='bar', stacked=True,figsize=(13,8) , color=('pink','yellow'))\n",
    "#plt.title('Number of customers per company')\n",
    "#plt.ylabel('Number of customers')\n",
    "#plt.xticks(rotation=45, ha='center')\n",
    "#plt.show()\n",
    "#print(agg_gender_cnt)"
   ]
  },
  {
   "cell_type": "code",
   "execution_count": 41,
   "id": "107bd456",
   "metadata": {},
   "outputs": [
    {
     "data": {
      "text/plain": [
       "359392"
      ]
     },
     "execution_count": 41,
     "metadata": {},
     "output_type": "execute_result"
    }
   ],
   "source": [
    "df['Customer ID'].count()"
   ]
  },
  {
   "cell_type": "code",
   "execution_count": 42,
   "id": "26a94433",
   "metadata": {},
   "outputs": [
    {
     "ename": "IndentationError",
     "evalue": "unexpected indent (<ipython-input-42-6891ad3d60e4>, line 7)",
     "output_type": "error",
     "traceback": [
      "\u001b[1;36m  File \u001b[1;32m\"<ipython-input-42-6891ad3d60e4>\"\u001b[1;36m, line \u001b[1;32m7\u001b[0m\n\u001b[1;33m    107,319\u001b[0m\n\u001b[1;37m    ^\u001b[0m\n\u001b[1;31mIndentationError\u001b[0m\u001b[1;31m:\u001b[0m unexpected indent\n"
     ]
    }
   ],
   "source": [
    "# transforming the dataset for barplot\n",
    "data_df = df.groupby(['travel_year','Company'])['Customer ID'].count()\n",
    "  \n",
    "data_df = data_df.reset_index()\n",
    "print(data_df.head())\n",
    "\n",
    "    107,319"
   ]
  },
  {
   "cell_type": "code",
   "execution_count": 43,
   "id": "5347de0d",
   "metadata": {},
   "outputs": [
    {
     "data": {
      "image/png": "[encoded data removed]",
      "text/plain": [
       "<Figure size 936x576 with 1 Axes>"
      ]
     },
     "metadata": {
      "needs_background": "light"
     },
     "output_type": "display_data"
    }
   ],
   "source": [
    "company_year_cnt = df.groupby(['travel_year','Company'])['Customer ID'].count().unstack();\n",
    "#company_year_cnt.plot(kind='bar', stacked=True,figsize=(13,8) , color=('pink','yellow'))\n",
    "#plt.title('customer counts in each company by year')\n",
    "#plt.xticks(rotation=45, ha='center')\n",
    "#plt.show()\n",
    "#calculate the % for each age group \n",
    "#company_year_cnt\n",
    "#percentage_dist = 100 * company_year_cnt.divide(company_year_cnt.sum(axis = 1), axis = 0)\n",
    "percentage_dist =company_year_cnt\n",
    "#percentage_dist.plot.bar(stacked=True)\n",
    "ax = percentage_dist.plot.bar(stacked=True, figsize=(13,8),  color=('pink','yellow'))\n",
    "for p in ax.patches:\n",
    "    width, height = p.get_width(), p.get_height()\n",
    "    x, y = p.get_xy() \n",
    "    ax.text(x+width/2, \n",
    "            y+height/2, \n",
    "            '{:.0f}'.format(height), \n",
    "            #'{:.0f} %'.format(height), \n",
    "            horizontalalignment='center', \n",
    "            verticalalignment='center')"
   ]
  },
  {
   "cell_type": "code",
   "execution_count": 44,
   "id": "dfedd4dd",
   "metadata": {},
   "outputs": [
    {
     "data": {
      "image/png": "[encoded data removed]",
      "text/plain": [
       "<Figure size 1080x576 with 1 Axes>"
      ]
     },
     "metadata": {
      "needs_background": "light"
     },
     "output_type": "display_data"
    }
   ],
   "source": [
    "cust_city_comp_cnt = df.groupby(['City','Company'])['Customer ID'].count().unstack();\n",
    "#company_year_cnt.plot(kind='bar', stacked=True,figsize=(13,8) , color=('pink','yellow'))\n",
    "\n",
    "#plt.xticks(rotation=45, ha='center')\n",
    "#plt.show()\n",
    "#calculate the % for each age group \n",
    "cust_city_comp_cnt\n",
    "#percentage_dist = 100 * cust_city_comp_cnt.divide(cust_city_comp_cnt.sum(axis = 1), axis = 0)\n",
    "percentage_dist =cust_city_comp_cnt\n",
    "#percentage_dist.plot.bar(stacked=True)\n",
    "ax = percentage_dist.plot.bar(stacked=True,figsize=(15,8), color=('pink','yellow'))\n",
    "ax.set_title('Customer counts in each city by year')\n",
    "for p in ax.patches:\n",
    "    width, height = p.get_width(), p.get_height()\n",
    "    x, y = p.get_xy() \n",
    "    ax.text(x+width/2, \n",
    "            y+height/2, \n",
    "            '{:.0f}'.format(height), \n",
    "            #'{:.0f} %'.format(height), \n",
    "            horizontalalignment='center', \n",
    "            verticalalignment='center')"
   ]
  },
  {
   "cell_type": "code",
   "execution_count": 45,
   "id": "358f7d08",
   "metadata": {},
   "outputs": [
    {
     "data": {
      "text/plain": [
       "'3.5.2'"
      ]
     },
     "execution_count": 45,
     "metadata": {},
     "output_type": "execute_result"
    }
   ],
   "source": [
    "import matplotlib\n",
    "matplotlib.__version__"
   ]
  },
  {
   "cell_type": "code",
   "execution_count": 46,
   "id": "383dac54",
   "metadata": {},
   "outputs": [
    {
     "name": "stdout",
     "output_type": "stream",
     "text": [
      "Requirement already satisfied: matplotlib in c:\\users\\priya\\anaconda3\\lib\\site-packages (3.5.2)\n",
      "Requirement already satisfied: packaging>=20.0 in c:\\users\\priya\\anaconda3\\lib\\site-packages (from matplotlib) (20.9)\n",
      "Requirement already satisfied: fonttools>=4.22.0 in c:\\users\\priya\\anaconda3\\lib\\site-packages (from matplotlib) (4.34.4)\n",
      "Requirement already satisfied: cycler>=0.10 in c:\\users\\priya\\anaconda3\\lib\\site-packages (from matplotlib) (0.10.0)\n",
      "Requirement already satisfied: python-dateutil>=2.7 in c:\\users\\priya\\anaconda3\\lib\\site-packages (from matplotlib) (2.8.1)\n",
      "Requirement already satisfied: numpy>=1.17 in c:\\users\\priya\\anaconda3\\lib\\site-packages (from matplotlib) (1.22.3)\n",
      "Requirement already satisfied: pillow>=6.2.0 in c:\\users\\priya\\anaconda3\\lib\\site-packages (from matplotlib) (8.2.0)\n",
      "Requirement already satisfied: pyparsing>=2.2.1 in c:\\users\\priya\\anaconda3\\lib\\site-packages (from matplotlib) (2.4.7)\n",
      "Requirement already satisfied: kiwisolver>=1.0.1 in c:\\users\\priya\\anaconda3\\lib\\site-packages (from matplotlib) (1.3.1)Note: you may need to restart the kernel to use updated packages.\n",
      "\n",
      "Requirement already satisfied: six in c:\\users\\priya\\anaconda3\\lib\\site-packages (from cycler>=0.10->matplotlib) (1.15.0)\n"
     ]
    }
   ],
   "source": [
    "pip install -U matplotlib"
   ]
  },
  {
   "cell_type": "code",
   "execution_count": 47,
   "id": "0ace640c",
   "metadata": {},
   "outputs": [
    {
     "data": {
      "text/plain": [
       "Company\n",
       "Pink Cab       62.652174\n",
       "Yellow Cab    160.259986\n",
       "Name: profit, dtype: float64"
      ]
     },
     "execution_count": 47,
     "metadata": {},
     "output_type": "execute_result"
    }
   ],
   "source": [
    "df.groupby(\"Company\")[\"profit\"].mean()"
   ]
  },
  {
   "cell_type": "code",
   "execution_count": 48,
   "id": "5691c7d2",
   "metadata": {},
   "outputs": [
    {
     "data": {
      "text/plain": [
       "Company\n",
       "Pink Cab      6.081963\n",
       "Yellow Cab    6.081963\n",
       "Name: profit_per_km, dtype: float64"
      ]
     },
     "execution_count": 48,
     "metadata": {},
     "output_type": "execute_result"
    }
   ],
   "source": [
    "df.groupby(\"Company\")[\"profit_per_km\"].mean()"
   ]
  },
  {
   "cell_type": "code",
   "execution_count": 49,
   "id": "a0666a32",
   "metadata": {},
   "outputs": [
    {
     "data": {
      "text/html": [
       "<div>\n",
       "<style scoped>\n",
       "    .dataframe tbody tr th:only-of-type {\n",
       "        vertical-align: middle;\n",
       "    }\n",
       "\n",
       "    .dataframe tbody tr th {\n",
       "        vertical-align: top;\n",
       "    }\n",
       "\n",
       "    .dataframe thead th {\n",
       "        text-align: right;\n",
       "    }\n",
       "</style>\n",
       "<table border=\"1\" class=\"dataframe\">\n",
       "  <thead>\n",
       "    <tr style=\"text-align: right;\">\n",
       "      <th></th>\n",
       "      <th>Transaction ID</th>\n",
       "      <th>Date of Travel</th>\n",
       "      <th>Company</th>\n",
       "      <th>City</th>\n",
       "      <th>KM Travelled</th>\n",
       "      <th>Price Charged</th>\n",
       "      <th>Cost of Trip</th>\n",
       "      <th>Customer ID</th>\n",
       "      <th>Payment_Mode</th>\n",
       "      <th>Gender</th>\n",
       "      <th>Age</th>\n",
       "      <th>Income (USD/Month)</th>\n",
       "      <th>Population</th>\n",
       "      <th>Users</th>\n",
       "      <th>travel_year</th>\n",
       "      <th>travel_month</th>\n",
       "      <th>profit</th>\n",
       "      <th>profit_per_km</th>\n",
       "    </tr>\n",
       "  </thead>\n",
       "  <tbody>\n",
       "    <tr>\n",
       "      <th>0</th>\n",
       "      <td>10000011</td>\n",
       "      <td>2016-01-08</td>\n",
       "      <td>Pink Cab</td>\n",
       "      <td>ATLANTA GA</td>\n",
       "      <td>30.45</td>\n",
       "      <td>370.95</td>\n",
       "      <td>313.6350</td>\n",
       "      <td>29290</td>\n",
       "      <td>Card</td>\n",
       "      <td>Male</td>\n",
       "      <td>28</td>\n",
       "      <td>10813</td>\n",
       "      <td>814885</td>\n",
       "      <td>24701</td>\n",
       "      <td>2016</td>\n",
       "      <td>1</td>\n",
       "      <td>57.3150</td>\n",
       "      <td>6.081963</td>\n",
       "    </tr>\n",
       "    <tr>\n",
       "      <th>1</th>\n",
       "      <td>10351127</td>\n",
       "      <td>2018-07-21</td>\n",
       "      <td>Yellow Cab</td>\n",
       "      <td>ATLANTA GA</td>\n",
       "      <td>26.19</td>\n",
       "      <td>598.70</td>\n",
       "      <td>317.4228</td>\n",
       "      <td>29290</td>\n",
       "      <td>Cash</td>\n",
       "      <td>Male</td>\n",
       "      <td>28</td>\n",
       "      <td>10813</td>\n",
       "      <td>814885</td>\n",
       "      <td>24701</td>\n",
       "      <td>2018</td>\n",
       "      <td>7</td>\n",
       "      <td>281.2772</td>\n",
       "      <td>6.081963</td>\n",
       "    </tr>\n",
       "    <tr>\n",
       "      <th>2</th>\n",
       "      <td>10412921</td>\n",
       "      <td>2018-11-23</td>\n",
       "      <td>Yellow Cab</td>\n",
       "      <td>ATLANTA GA</td>\n",
       "      <td>42.55</td>\n",
       "      <td>792.05</td>\n",
       "      <td>597.4020</td>\n",
       "      <td>29290</td>\n",
       "      <td>Card</td>\n",
       "      <td>Male</td>\n",
       "      <td>28</td>\n",
       "      <td>10813</td>\n",
       "      <td>814885</td>\n",
       "      <td>24701</td>\n",
       "      <td>2018</td>\n",
       "      <td>11</td>\n",
       "      <td>194.6480</td>\n",
       "      <td>6.081963</td>\n",
       "    </tr>\n",
       "    <tr>\n",
       "      <th>3</th>\n",
       "      <td>10000012</td>\n",
       "      <td>2016-01-06</td>\n",
       "      <td>Pink Cab</td>\n",
       "      <td>ATLANTA GA</td>\n",
       "      <td>28.62</td>\n",
       "      <td>358.52</td>\n",
       "      <td>334.8540</td>\n",
       "      <td>27703</td>\n",
       "      <td>Card</td>\n",
       "      <td>Male</td>\n",
       "      <td>27</td>\n",
       "      <td>9237</td>\n",
       "      <td>814885</td>\n",
       "      <td>24701</td>\n",
       "      <td>2016</td>\n",
       "      <td>1</td>\n",
       "      <td>23.6660</td>\n",
       "      <td>6.081963</td>\n",
       "    </tr>\n",
       "    <tr>\n",
       "      <th>4</th>\n",
       "      <td>10320494</td>\n",
       "      <td>2018-04-21</td>\n",
       "      <td>Yellow Cab</td>\n",
       "      <td>ATLANTA GA</td>\n",
       "      <td>36.38</td>\n",
       "      <td>721.10</td>\n",
       "      <td>467.1192</td>\n",
       "      <td>27703</td>\n",
       "      <td>Card</td>\n",
       "      <td>Male</td>\n",
       "      <td>27</td>\n",
       "      <td>9237</td>\n",
       "      <td>814885</td>\n",
       "      <td>24701</td>\n",
       "      <td>2018</td>\n",
       "      <td>4</td>\n",
       "      <td>253.9808</td>\n",
       "      <td>6.081963</td>\n",
       "    </tr>\n",
       "  </tbody>\n",
       "</table>\n",
       "</div>"
      ],
      "text/plain": [
       "   Transaction ID Date of Travel     Company        City  KM Travelled  \\\n",
       "0        10000011     2016-01-08    Pink Cab  ATLANTA GA         30.45   \n",
       "1        10351127     2018-07-21  Yellow Cab  ATLANTA GA         26.19   \n",
       "2        10412921     2018-11-23  Yellow Cab  ATLANTA GA         42.55   \n",
       "3        10000012     2016-01-06    Pink Cab  ATLANTA GA         28.62   \n",
       "4        10320494     2018-04-21  Yellow Cab  ATLANTA GA         36.38   \n",
       "\n",
       "   Price Charged  Cost of Trip  Customer ID Payment_Mode Gender  Age  \\\n",
       "0         370.95      313.6350        29290         Card   Male   28   \n",
       "1         598.70      317.4228        29290         Cash   Male   28   \n",
       "2         792.05      597.4020        29290         Card   Male   28   \n",
       "3         358.52      334.8540        27703         Card   Male   27   \n",
       "4         721.10      467.1192        27703         Card   Male   27   \n",
       "\n",
       "   Income (USD/Month)  Population  Users  travel_year  travel_month    profit  \\\n",
       "0               10813      814885  24701         2016             1   57.3150   \n",
       "1               10813      814885  24701         2018             7  281.2772   \n",
       "2               10813      814885  24701         2018            11  194.6480   \n",
       "3                9237      814885  24701         2016             1   23.6660   \n",
       "4                9237      814885  24701         2018             4  253.9808   \n",
       "\n",
       "   profit_per_km  \n",
       "0       6.081963  \n",
       "1       6.081963  \n",
       "2       6.081963  \n",
       "3       6.081963  \n",
       "4       6.081963  "
      ]
     },
     "execution_count": 49,
     "metadata": {},
     "output_type": "execute_result"
    }
   ],
   "source": [
    "df.head()"
   ]
  },
  {
   "cell_type": "code",
   "execution_count": 50,
   "id": "ce673e5b",
   "metadata": {},
   "outputs": [
    {
     "data": {
      "image/png": "[encoded data removed]",
      "text/plain": [
       "<Figure size 2160x2160 with 2 Axes>"
      ]
     },
     "metadata": {
      "needs_background": "light"
     },
     "output_type": "display_data"
    }
   ],
   "source": [
    "### create the correlation matrix heat map\n",
    "plt.figure(figsize=(30,30))\n",
    "sns.heatmap(df.corr(),linewidths=.1,cmap=\"YlGnBu\", annot=True)\n",
    "plt.yticks(rotation=0);"
   ]
  },
  {
   "cell_type": "markdown",
   "id": "e354f50d",
   "metadata": {},
   "source": [
    "The correlation map shows positive relation between \n",
    "1. KM travelled and profit, cost of trip, price charged\n",
    "2. price charged and profit, cost of trip\n",
    "3. users and population\n",
    "4. users and profit\n",
    "4. population and profit"
   ]
  },
  {
   "cell_type": "code",
   "execution_count": 51,
   "id": "526a78e2",
   "metadata": {},
   "outputs": [],
   "source": [
    "features = ['KM Travelled','Company','Price Charged','Cost of Trip','Income (USD/Month)','Population', 'Users','profit']"
   ]
  },
  {
   "cell_type": "code",
   "execution_count": 52,
   "id": "82cdd5a4",
   "metadata": {},
   "outputs": [],
   "source": [
    "new_df = df[features]"
   ]
  },
  {
   "cell_type": "code",
   "execution_count": 53,
   "id": "a78ae4c5",
   "metadata": {},
   "outputs": [
    {
     "data": {
      "text/html": [
       "<div>\n",
       "<style scoped>\n",
       "    .dataframe tbody tr th:only-of-type {\n",
       "        vertical-align: middle;\n",
       "    }\n",
       "\n",
       "    .dataframe tbody tr th {\n",
       "        vertical-align: top;\n",
       "    }\n",
       "\n",
       "    .dataframe thead th {\n",
       "        text-align: right;\n",
       "    }\n",
       "</style>\n",
       "<table border=\"1\" class=\"dataframe\">\n",
       "  <thead>\n",
       "    <tr style=\"text-align: right;\">\n",
       "      <th></th>\n",
       "      <th>Transaction ID</th>\n",
       "      <th>Date of Travel</th>\n",
       "      <th>Company</th>\n",
       "      <th>City</th>\n",
       "      <th>KM Travelled</th>\n",
       "      <th>Price Charged</th>\n",
       "      <th>Cost of Trip</th>\n",
       "      <th>Customer ID</th>\n",
       "      <th>Payment_Mode</th>\n",
       "      <th>Gender</th>\n",
       "      <th>Age</th>\n",
       "      <th>Income (USD/Month)</th>\n",
       "      <th>Population</th>\n",
       "      <th>Users</th>\n",
       "      <th>travel_year</th>\n",
       "      <th>travel_month</th>\n",
       "      <th>profit</th>\n",
       "      <th>profit_per_km</th>\n",
       "    </tr>\n",
       "  </thead>\n",
       "  <tbody>\n",
       "    <tr>\n",
       "      <th>0</th>\n",
       "      <td>10000011</td>\n",
       "      <td>2016-01-08</td>\n",
       "      <td>Pink Cab</td>\n",
       "      <td>ATLANTA GA</td>\n",
       "      <td>30.45</td>\n",
       "      <td>370.95</td>\n",
       "      <td>313.6350</td>\n",
       "      <td>29290</td>\n",
       "      <td>Card</td>\n",
       "      <td>Male</td>\n",
       "      <td>28</td>\n",
       "      <td>10813</td>\n",
       "      <td>814885</td>\n",
       "      <td>24701</td>\n",
       "      <td>2016</td>\n",
       "      <td>1</td>\n",
       "      <td>57.3150</td>\n",
       "      <td>6.081963</td>\n",
       "    </tr>\n",
       "    <tr>\n",
       "      <th>1</th>\n",
       "      <td>10351127</td>\n",
       "      <td>2018-07-21</td>\n",
       "      <td>Yellow Cab</td>\n",
       "      <td>ATLANTA GA</td>\n",
       "      <td>26.19</td>\n",
       "      <td>598.70</td>\n",
       "      <td>317.4228</td>\n",
       "      <td>29290</td>\n",
       "      <td>Cash</td>\n",
       "      <td>Male</td>\n",
       "      <td>28</td>\n",
       "      <td>10813</td>\n",
       "      <td>814885</td>\n",
       "      <td>24701</td>\n",
       "      <td>2018</td>\n",
       "      <td>7</td>\n",
       "      <td>281.2772</td>\n",
       "      <td>6.081963</td>\n",
       "    </tr>\n",
       "    <tr>\n",
       "      <th>2</th>\n",
       "      <td>10412921</td>\n",
       "      <td>2018-11-23</td>\n",
       "      <td>Yellow Cab</td>\n",
       "      <td>ATLANTA GA</td>\n",
       "      <td>42.55</td>\n",
       "      <td>792.05</td>\n",
       "      <td>597.4020</td>\n",
       "      <td>29290</td>\n",
       "      <td>Card</td>\n",
       "      <td>Male</td>\n",
       "      <td>28</td>\n",
       "      <td>10813</td>\n",
       "      <td>814885</td>\n",
       "      <td>24701</td>\n",
       "      <td>2018</td>\n",
       "      <td>11</td>\n",
       "      <td>194.6480</td>\n",
       "      <td>6.081963</td>\n",
       "    </tr>\n",
       "    <tr>\n",
       "      <th>3</th>\n",
       "      <td>10000012</td>\n",
       "      <td>2016-01-06</td>\n",
       "      <td>Pink Cab</td>\n",
       "      <td>ATLANTA GA</td>\n",
       "      <td>28.62</td>\n",
       "      <td>358.52</td>\n",
       "      <td>334.8540</td>\n",
       "      <td>27703</td>\n",
       "      <td>Card</td>\n",
       "      <td>Male</td>\n",
       "      <td>27</td>\n",
       "      <td>9237</td>\n",
       "      <td>814885</td>\n",
       "      <td>24701</td>\n",
       "      <td>2016</td>\n",
       "      <td>1</td>\n",
       "      <td>23.6660</td>\n",
       "      <td>6.081963</td>\n",
       "    </tr>\n",
       "    <tr>\n",
       "      <th>4</th>\n",
       "      <td>10320494</td>\n",
       "      <td>2018-04-21</td>\n",
       "      <td>Yellow Cab</td>\n",
       "      <td>ATLANTA GA</td>\n",
       "      <td>36.38</td>\n",
       "      <td>721.10</td>\n",
       "      <td>467.1192</td>\n",
       "      <td>27703</td>\n",
       "      <td>Card</td>\n",
       "      <td>Male</td>\n",
       "      <td>27</td>\n",
       "      <td>9237</td>\n",
       "      <td>814885</td>\n",
       "      <td>24701</td>\n",
       "      <td>2018</td>\n",
       "      <td>4</td>\n",
       "      <td>253.9808</td>\n",
       "      <td>6.081963</td>\n",
       "    </tr>\n",
       "  </tbody>\n",
       "</table>\n",
       "</div>"
      ],
      "text/plain": [
       "   Transaction ID Date of Travel     Company        City  KM Travelled  \\\n",
       "0        10000011     2016-01-08    Pink Cab  ATLANTA GA         30.45   \n",
       "1        10351127     2018-07-21  Yellow Cab  ATLANTA GA         26.19   \n",
       "2        10412921     2018-11-23  Yellow Cab  ATLANTA GA         42.55   \n",
       "3        10000012     2016-01-06    Pink Cab  ATLANTA GA         28.62   \n",
       "4        10320494     2018-04-21  Yellow Cab  ATLANTA GA         36.38   \n",
       "\n",
       "   Price Charged  Cost of Trip  Customer ID Payment_Mode Gender  Age  \\\n",
       "0         370.95      313.6350        29290         Card   Male   28   \n",
       "1         598.70      317.4228        29290         Cash   Male   28   \n",
       "2         792.05      597.4020        29290         Card   Male   28   \n",
       "3         358.52      334.8540        27703         Card   Male   27   \n",
       "4         721.10      467.1192        27703         Card   Male   27   \n",
       "\n",
       "   Income (USD/Month)  Population  Users  travel_year  travel_month    profit  \\\n",
       "0               10813      814885  24701         2016             1   57.3150   \n",
       "1               10813      814885  24701         2018             7  281.2772   \n",
       "2               10813      814885  24701         2018            11  194.6480   \n",
       "3                9237      814885  24701         2016             1   23.6660   \n",
       "4                9237      814885  24701         2018             4  253.9808   \n",
       "\n",
       "   profit_per_km  \n",
       "0       6.081963  \n",
       "1       6.081963  \n",
       "2       6.081963  \n",
       "3       6.081963  \n",
       "4       6.081963  "
      ]
     },
     "execution_count": 53,
     "metadata": {},
     "output_type": "execute_result"
    }
   ],
   "source": [
    "df.head()"
   ]
  },
  {
   "cell_type": "markdown",
   "id": "2abc1b27",
   "metadata": {},
   "source": [
    "##### Price distribution :"
   ]
  },
  {
   "cell_type": "code",
   "execution_count": null,
   "id": "7c988be8",
   "metadata": {},
   "outputs": [],
   "source": [
    "sns.scatterplot(x='KM Travelled', y = 'profit', data=df, hue=\"Company\");"
   ]
  },
  {
   "cell_type": "code",
   "execution_count": null,
   "id": "dcf0f133",
   "metadata": {},
   "outputs": [],
   "source": [
    "sns.scatterplot(x='Price Charged', y = 'profit', data=df, hue=\"Company\");"
   ]
  },
  {
   "cell_type": "code",
   "execution_count": null,
   "id": "4b6d5438",
   "metadata": {},
   "outputs": [],
   "source": [
    "sns.scatterplot(x='Cost of Trip', y = 'profit', data=df, hue=\"Company\");"
   ]
  },
  {
   "cell_type": "code",
   "execution_count": null,
   "id": "3085ef5f",
   "metadata": {},
   "outputs": [],
   "source": [
    "df.groupby('City')['profit'].mean()"
   ]
  },
  {
   "cell_type": "code",
   "execution_count": null,
   "id": "5c676d8c",
   "metadata": {},
   "outputs": [],
   "source": [
    "avg_profit_per_city = df.groupby('City')['profit'].mean()\n",
    "avg_profit_per_city.plot(kind='bar',figsize=(13,8) )\n",
    "plt.title('Average profit per city')\n",
    "plt.xticks(rotation=45, ha='center')\n",
    "plt.show()"
   ]
  },
  {
   "cell_type": "code",
   "execution_count": null,
   "id": "a25d0ab7",
   "metadata": {},
   "outputs": [],
   "source": [
    "fig1, ax1 = plt.subplots(figsize=(10, 8))\n",
    "labels = df['City'].unique()\n",
    "ax1.pie(avg_profit_per_city,labels=labels, autopct='%10.2f%%',startangle=90)\n",
    "ax1.axis('equal') \n",
    "plt.show()"
   ]
  },
  {
   "cell_type": "markdown",
   "id": "218f565b",
   "metadata": {},
   "source": [
    "###### New York City shows maximum profit for cab business. 14.54% cab market is occupied by New york. Silicon Valley is on second number"
   ]
  },
  {
   "cell_type": "code",
   "execution_count": null,
   "id": "fc68039f",
   "metadata": {},
   "outputs": [],
   "source": [
    "total_profit_per_company = df.groupby('Company')['profit'].sum()"
   ]
  },
  {
   "cell_type": "code",
   "execution_count": null,
   "id": "00e3f696",
   "metadata": {},
   "outputs": [],
   "source": [
    "total_profit_per_company"
   ]
  },
  {
   "cell_type": "code",
   "execution_count": null,
   "id": "17feac8a",
   "metadata": {},
   "outputs": [],
   "source": [
    "fig1, ax1 = plt.subplots(figsize=(10, 8))\n",
    "labels = df['Company'].unique()\n",
    "ax1.pie(total_profit_per_company,labels=labels, autopct='%10.2f%%',startangle=90)\n",
    "ax1.axis('equal') \n",
    "plt.show()"
   ]
  },
  {
   "cell_type": "markdown",
   "id": "70ac7858",
   "metadata": {},
   "source": [
    "Yellow Cab shows more profit than Pink Cab"
   ]
  },
  {
   "cell_type": "code",
   "execution_count": null,
   "id": "2a7c2cfa",
   "metadata": {},
   "outputs": [],
   "source": [
    "total_rides_per_year = df['travel_year'].value_counts()"
   ]
  },
  {
   "cell_type": "code",
   "execution_count": null,
   "id": "329844eb",
   "metadata": {},
   "outputs": [],
   "source": [
    "total_rides_per_year"
   ]
  },
  {
   "cell_type": "code",
   "execution_count": null,
   "id": "63ce9eea",
   "metadata": {},
   "outputs": [],
   "source": [
    "x = df['travel_year']\n",
    "sns.countplot(x=x)\n",
    "plt.show()"
   ]
  },
  {
   "cell_type": "code",
   "execution_count": null,
   "id": "33d24118",
   "metadata": {},
   "outputs": [],
   "source": [
    "total_profit_per_year = df.groupby('travel_year')['profit'].sum()"
   ]
  },
  {
   "cell_type": "code",
   "execution_count": null,
   "id": "79c9dd10",
   "metadata": {},
   "outputs": [],
   "source": [
    "total_profit_per_year"
   ]
  },
  {
   "cell_type": "code",
   "execution_count": null,
   "id": "abed6a2b",
   "metadata": {},
   "outputs": [],
   "source": [
    "fig1, ax1 = plt.subplots(figsize=(10, 8))\n",
    "labels = df['travel_year'].unique()\n",
    "ax1.pie(total_profit_per_year,labels=labels, autopct='%10.2f%%',startangle=90)\n",
    "ax1.axis('equal') \n",
    "plt.show()"
   ]
  },
  {
   "cell_type": "code",
   "execution_count": null,
   "id": "fa65a56b",
   "metadata": {},
   "outputs": [],
   "source": [
    "avg_profit_year_company = df.groupby(['travel_year','Company'])['profit'].mean()"
   ]
  },
  {
   "cell_type": "code",
   "execution_count": null,
   "id": "a8818eb0",
   "metadata": {},
   "outputs": [],
   "source": [
    "avg_profit_year_company"
   ]
  },
  {
   "cell_type": "code",
   "execution_count": null,
   "id": "0574af39",
   "metadata": {},
   "outputs": [],
   "source": [
    "avg_profit_year_company = df.groupby(['travel_year','Company'])['profit'].mean().unstack();\n",
    "avg_profit_year_company.plot(kind='bar', stacked=True,figsize=(13,8))\n",
    "plt.title('Average Profit per Year per Company')\n",
    "plt.xticks(rotation=45, ha='center')\n",
    "plt.show()"
   ]
  },
  {
   "cell_type": "code",
   "execution_count": null,
   "id": "eddd7e45",
   "metadata": {},
   "outputs": [],
   "source": [
    "profit_2016 = round ( df[(df['travel_year'] == 2016) & (df.Company == \"Yellow Cab\")][\"profit\"].sum() ,2)\n",
    "profit_2017 = round ( df[(df['travel_year'] == 2017) & (df.Company == \"Yellow Cab\")][\"profit\"].sum() ,2)\n",
    "profit_2018 = round ( df[(df['travel_year'] == 2018) & (df.Company == \"Yellow Cab\")][\"profit\"].sum() ,2)"
   ]
  },
  {
   "cell_type": "code",
   "execution_count": null,
   "id": "58dffee4",
   "metadata": {},
   "outputs": [],
   "source": [
    "sns.catplot(x='travel_year', y='profit', data=df , hue='Company',kind='point')\n",
    "plt.show()"
   ]
  },
  {
   "cell_type": "markdown",
   "id": "3b9a1499",
   "metadata": {},
   "source": [
    "After looking at above graphs , we should suggest Yellow Cab company for investment, as the profits of yellow cab are on the higher side than pink cab"
   ]
  },
  {
   "cell_type": "code",
   "execution_count": null,
   "id": "e7bd244e",
   "metadata": {},
   "outputs": [],
   "source": []
  }
 ],
 "metadata": {
  "kernelspec": {
   "display_name": "Python 3",
   "language": "python",
   "name": "python3"
  },
  "language_info": {
   "codemirror_mode": {
    "name": "ipython",
    "version": 3
   },
   "file_extension": ".py",
   "mimetype": "text/x-python",
   "name": "python",
   "nbconvert_exporter": "python",
   "pygments_lexer": "ipython3",
   "version": "3.8.8"
  }
 },
 "nbformat": 4,
 "nbformat_minor": 5
}
